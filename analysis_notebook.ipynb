{
 "cells": [
  {
   "cell_type": "markdown",
   "metadata": {},
   "source": [
    "# Notebook for Metalign Data Analysis"
   ]
  },
  {
   "cell_type": "markdown",
   "metadata": {},
   "source": [
    "----"
   ]
  },
  {
   "cell_type": "markdown",
   "metadata": {},
   "source": [
    "Regular imports"
   ]
  },
  {
   "cell_type": "code",
   "execution_count": 1,
   "metadata": {},
   "outputs": [],
   "source": [
    "from src.metalign_analysis import MetalignDB as DB"
   ]
  },
  {
   "cell_type": "markdown",
   "metadata": {},
   "source": [
    "Provide the file path to the Metalign data file and initialize the class.\n",
    "This attempts to set up the database if it hasn't already been created"
   ]
  },
  {
   "cell_type": "code",
   "execution_count": 2,
   "metadata": {},
   "outputs": [
    {
     "name": "stdout",
     "output_type": "stream",
     "text": [
      "Start time: 2025-05-01 10:36:57.309778\n",
      "End time: 2025-05-01 10:37:01.606139\n",
      "Total runtime: 0:00:04.296361\n"
     ]
    }
   ],
   "source": [
    "leaves = \"data/Leaf_all.nostrain.txt\"\n",
    "db = DB(leaves)"
   ]
  },
  {
   "cell_type": "markdown",
   "metadata": {},
   "source": [
    "If metadata is available, add it to the class initialized. Using the samples template file submitted to Cornell's slims website, then you can add extra columns that represent categories to the template file. You can pass the names of the other categorical variables (columns) you want as arguments"
   ]
  },
  {
   "cell_type": "code",
   "execution_count": 3,
   "metadata": {},
   "outputs": [
    {
     "data": {
      "application/vnd.microsoft.datawrangler.viewer.v0+json": {
       "columns": [
        {
         "name": "samples",
         "rawType": "object",
         "type": "string"
        },
        {
         "name": "site",
         "rawType": "object",
         "type": "string"
        },
        {
         "name": "treatment_herb_level",
         "rawType": "int64",
         "type": "integer"
        }
       ],
       "conversionMethod": "pd.DataFrame",
       "ref": "4cf93675-82f7-43e1-844c-533d9f6c10ff",
       "rows": [
        [
         "A01",
         "sky",
         "2"
        ],
        [
         "B01",
         "sky",
         "1"
        ],
        [
         "C01",
         "sky",
         "1"
        ],
        [
         "D01",
         "sky",
         "1"
        ],
        [
         "E01",
         "sky",
         "3"
        ],
        [
         "F01",
         "sky",
         "3"
        ],
        [
         "G01",
         "sky",
         "1"
        ],
        [
         "A02",
         "sky",
         "2"
        ],
        [
         "B02",
         "sky",
         "1"
        ],
        [
         "C02",
         "sky",
         "3"
        ],
        [
         "D02",
         "sky",
         "2"
        ],
        [
         "E02",
         "sky",
         "2"
        ],
        [
         "F02",
         "sky",
         "1"
        ],
        [
         "G02",
         "sky",
         "2"
        ],
        [
         "A03",
         "sky",
         "0"
        ],
        [
         "B03",
         "sky",
         "2"
        ],
        [
         "C03",
         "sky",
         "0"
        ],
        [
         "D03",
         "sky",
         "0"
        ],
        [
         "E03",
         "sky",
         "2"
        ],
        [
         "F03",
         "sky",
         "3"
        ],
        [
         "G03",
         "sky",
         "3"
        ],
        [
         "A04",
         "rv",
         "3"
        ],
        [
         "B04",
         "rv",
         "2"
        ],
        [
         "C04",
         "rv",
         "3"
        ],
        [
         "D04",
         "rv",
         "2"
        ],
        [
         "E04",
         "rv",
         "1"
        ],
        [
         "F04",
         "rv",
         "3"
        ],
        [
         "G04",
         "rv",
         "2"
        ],
        [
         "A05",
         "rv",
         "0"
        ],
        [
         "B05",
         "rv",
         "2"
        ],
        [
         "D05",
         "rv",
         "1"
        ],
        [
         "E05",
         "rv",
         "3"
        ],
        [
         "F05",
         "rv",
         "1"
        ],
        [
         "G05",
         "rv",
         "3"
        ],
        [
         "A06",
         "rv",
         "3"
        ],
        [
         "B06",
         "rv",
         "3"
        ],
        [
         "C06",
         "rv",
         "3"
        ],
        [
         "D06",
         "rv",
         "2"
        ],
        [
         "E06",
         "rv",
         "0"
        ],
        [
         "F06",
         "mea",
         "0"
        ],
        [
         "G06",
         "mea",
         "3"
        ],
        [
         "A07",
         "mea",
         "1"
        ],
        [
         "B07",
         "mea",
         "2"
        ],
        [
         "C07",
         "mea",
         "0"
        ],
        [
         "D07",
         "mea",
         "0"
        ],
        [
         "E07",
         "mea",
         "2"
        ],
        [
         "F07",
         "mea",
         "0"
        ],
        [
         "G07",
         "mea",
         "3"
        ],
        [
         "A08",
         "mea",
         "2"
        ],
        [
         "B08",
         "mea",
         "0"
        ]
       ],
       "shape": {
        "columns": 2,
        "rows": 63
       }
      },
      "text/html": [
       "<div>\n",
       "<style scoped>\n",
       "    .dataframe tbody tr th:only-of-type {\n",
       "        vertical-align: middle;\n",
       "    }\n",
       "\n",
       "    .dataframe tbody tr th {\n",
       "        vertical-align: top;\n",
       "    }\n",
       "\n",
       "    .dataframe thead th {\n",
       "        text-align: right;\n",
       "    }\n",
       "</style>\n",
       "<table border=\"1\" class=\"dataframe\">\n",
       "  <thead>\n",
       "    <tr style=\"text-align: right;\">\n",
       "      <th></th>\n",
       "      <th>site</th>\n",
       "      <th>treatment_herb_level</th>\n",
       "    </tr>\n",
       "    <tr>\n",
       "      <th>samples</th>\n",
       "      <th></th>\n",
       "      <th></th>\n",
       "    </tr>\n",
       "  </thead>\n",
       "  <tbody>\n",
       "    <tr>\n",
       "      <th>A01</th>\n",
       "      <td>sky</td>\n",
       "      <td>2</td>\n",
       "    </tr>\n",
       "    <tr>\n",
       "      <th>B01</th>\n",
       "      <td>sky</td>\n",
       "      <td>1</td>\n",
       "    </tr>\n",
       "    <tr>\n",
       "      <th>C01</th>\n",
       "      <td>sky</td>\n",
       "      <td>1</td>\n",
       "    </tr>\n",
       "    <tr>\n",
       "      <th>D01</th>\n",
       "      <td>sky</td>\n",
       "      <td>1</td>\n",
       "    </tr>\n",
       "    <tr>\n",
       "      <th>E01</th>\n",
       "      <td>sky</td>\n",
       "      <td>3</td>\n",
       "    </tr>\n",
       "    <tr>\n",
       "      <th>...</th>\n",
       "      <td>...</td>\n",
       "      <td>...</td>\n",
       "    </tr>\n",
       "    <tr>\n",
       "      <th>D09</th>\n",
       "      <td>mea</td>\n",
       "      <td>3</td>\n",
       "    </tr>\n",
       "    <tr>\n",
       "      <th>E09</th>\n",
       "      <td>mea</td>\n",
       "      <td>3</td>\n",
       "    </tr>\n",
       "    <tr>\n",
       "      <th>F09</th>\n",
       "      <td>mea</td>\n",
       "      <td>3</td>\n",
       "    </tr>\n",
       "    <tr>\n",
       "      <th>G09</th>\n",
       "      <td>mea</td>\n",
       "      <td>2</td>\n",
       "    </tr>\n",
       "    <tr>\n",
       "      <th>A10</th>\n",
       "      <td>rv</td>\n",
       "      <td>0</td>\n",
       "    </tr>\n",
       "  </tbody>\n",
       "</table>\n",
       "<p>63 rows × 2 columns</p>\n",
       "</div>"
      ],
      "text/plain": [
       "        site  treatment_herb_level\n",
       "samples                           \n",
       "A01      sky                     2\n",
       "B01      sky                     1\n",
       "C01      sky                     1\n",
       "D01      sky                     1\n",
       "E01      sky                     3\n",
       "...      ...                   ...\n",
       "D09      mea                     3\n",
       "E09      mea                     3\n",
       "F09      mea                     3\n",
       "G09      mea                     2\n",
       "A10       rv                     0\n",
       "\n",
       "[63 rows x 2 columns]"
      ]
     },
     "execution_count": 3,
     "metadata": {},
     "output_type": "execute_result"
    }
   ],
   "source": [
    "metadata_file = \"data/leaf_phenotype.csv\"\n",
    "db.get_metadata(metadata_file, categories=['samples', 'site', 'treatment_herb_level'], sep=',', index_col='samples')"
   ]
  },
  {
   "cell_type": "markdown",
   "metadata": {},
   "source": [
    "***"
   ]
  },
  {
   "cell_type": "markdown",
   "metadata": {},
   "source": [
    "## Calculate Diversity Metrics"
   ]
  },
  {
   "cell_type": "markdown",
   "metadata": {},
   "source": [
    "- For either alpha or beta diversity, you have the liberty to specify which metric has to be used for the computation"
   ]
  },
  {
   "cell_type": "markdown",
   "metadata": {},
   "source": [
    "Calculate alpha diversity\n"
   ]
  },
  {
   "cell_type": "code",
   "execution_count": 4,
   "metadata": {},
   "outputs": [
    {
     "name": "stdout",
     "output_type": "stream",
     "text": [
      "Alpha diversity for all samples: \n",
      "[3990.0, 2342.0, 3021.0, 1148.0, 1339.0, 456.0, 3196.0, 616.0, 3715.0, 1100.0, 2122.0, 555.0, 3143.0, 3254.0, 2854.0, 916.0, 1988.0, 1979.0, 1129.0, 1498.0, 3100.0, 2166.0, 1728.0, 666.0, 1378.0, 3497.0, 1281.0, 1034.0, 2647.0, 3515.0, 3137.0, 3428.0, 1181.0, 1500.0, 343.0, 4045.0, 4224.0, 2827.0, 382.0, 3102.0, 667.0, 3218.0, 3103.0, 3818.0, 653.0, 1118.0, 1032.0, 4249.0, 1505.0, 2760.0, 768.0, 1110.0, 418.0, 1498.0, 4055.0, 1795.0, 1092.0, 2280.0, 368.0, 901.0, 2809.0, 2463.0, 2540.0, 970.0, 1877.0, 1659.0, 2172.0, 1647.0, 1740.0, 964.0, 406.0, 1199.0, 1918.0, 2562.0, 638.0, 887.0, 1502.0, 2169.0, 2303.0, 2448.0, 1114.0]\n"
     ]
    }
   ],
   "source": [
    "alpha_div = db.get_alpha_diversity(\"chao1\")\n",
    "print(f\"Alpha diversity for all samples: \\n{list(alpha_div)}\")"
   ]
  },
  {
   "cell_type": "markdown",
   "metadata": {},
   "source": [
    "Calculate beta diversity"
   ]
  },
  {
   "cell_type": "code",
   "execution_count": 5,
   "metadata": {},
   "outputs": [
    {
     "name": "stdout",
     "output_type": "stream",
     "text": [
      "         A01      A02       A03       A04       A05       A06       A07  \\\n",
      "A01  0.00000  0.70486  0.502514  0.797751  0.874184  0.927616  0.528859   \n",
      "A02  0.70486  0.00000  0.734496  0.760315  0.803246  0.915262  0.821276   \n",
      "\n",
      "          A08       A09       A10  ...       G01       G02       G03      G04  \\\n",
      "A01  0.972639  0.540748  0.775566  ...  0.853281  0.647125  0.517780  0.89415   \n",
      "A02  0.970512  0.548019  0.863316  ...  0.746520  0.830666  0.840205  0.87312   \n",
      "\n",
      "          G05       G06       G07       G08       G09       G10  \n",
      "A01  0.831050  0.720624  0.678978  0.558264  0.594659  0.792165  \n",
      "A02  0.844255  0.837203  0.754924  0.830199  0.858649  0.730100  \n",
      "\n",
      "[2 rows x 81 columns]\n"
     ]
    }
   ],
   "source": [
    "beta_diversity = db.get_beta_diversity()\n",
    "print(beta_diversity.to_data_frame().head(2))"
   ]
  },
  {
   "cell_type": "markdown",
   "metadata": {},
   "source": [
    "## Display taxa-level information for samples"
   ]
  },
  {
   "cell_type": "markdown",
   "metadata": {},
   "source": [
    "This returns individual records based on the taxa. If __`sample_id`__ is not specified, each will return a dataframe of all individuals for each sample and their relative abundance. The output is sorted in descending order of relative abundance."
   ]
  },
  {
   "cell_type": "code",
   "execution_count": 6,
   "metadata": {},
   "outputs": [
    {
     "data": {
      "application/vnd.microsoft.datawrangler.viewer.v0+json": {
       "columns": [
        {
         "name": "index",
         "rawType": "int64",
         "type": "integer"
        },
        {
         "name": "species_id",
         "rawType": "int64",
         "type": "integer"
        },
        {
         "name": "species_name",
         "rawType": "object",
         "type": "string"
        },
        {
         "name": "relative_abundance",
         "rawType": "float64",
         "type": "float"
        },
        {
         "name": "sample_id",
         "rawType": "object",
         "type": "string"
        }
       ],
       "conversionMethod": "pd.DataFrame",
       "ref": "a4f1f72c-b491-41a3-bcc6-392c78887fb9",
       "rows": [
        [
         "0",
         "45617",
         "Human endogenous retrovirus K",
         "5.81399",
         "C10"
        ],
        [
         "1",
         "10847",
         "Escherichia virus phiX174",
         "5.71698",
         "B08"
        ],
        [
         "2",
         "1965386",
         "Salmonella phage alphaalpha",
         "5.34202",
         "A05"
        ],
        [
         "3",
         "67082",
         "BeAn 58058 virus",
         "4.75758",
         "C10"
        ],
        [
         "4",
         "2282408",
         "Bacillus phage Maceta",
         "4.18678",
         "E04"
        ],
        [
         "5",
         "2282408",
         "Bacillus phage Maceta",
         "3.57636",
         "G05"
        ],
        [
         "6",
         "10847",
         "Escherichia virus phiX174",
         "3.47229",
         "B06"
        ],
        [
         "7",
         "1965386",
         "Salmonella phage alphaalpha",
         "3.45103",
         "G02"
        ],
        [
         "8",
         "2282408",
         "Bacillus phage Maceta",
         "3.34037",
         "C04"
        ],
        [
         "9",
         "2108116",
         "Xanthomonas phage RiverRider",
         "3.27889",
         "A01"
        ],
        [
         "10",
         "1605838",
         "Pseudomonas coleopterorum",
         "3.21395",
         "A02"
        ],
        [
         "11",
         "2282408",
         "Bacillus phage Maceta",
         "3.19593",
         "A06"
        ],
        [
         "12",
         "1965386",
         "Salmonella phage alphaalpha",
         "3.01687",
         "F11"
        ],
        [
         "13",
         "2282408",
         "Bacillus phage Maceta",
         "3.011",
         "G04"
        ],
        [
         "14",
         "1965386",
         "Salmonella phage alphaalpha",
         "3.0033",
         "E12"
        ],
        [
         "15",
         "2282408",
         "Bacillus phage Maceta",
         "2.96053",
         "A10"
        ],
        [
         "16",
         "2282408",
         "Bacillus phage Maceta",
         "2.93636",
         "A12"
        ],
        [
         "17",
         "2282408",
         "Bacillus phage Maceta",
         "2.89512",
         "E06"
        ],
        [
         "18",
         "2282408",
         "Bacillus phage Maceta",
         "2.86022",
         "D06"
        ],
        [
         "19",
         "2282408",
         "Bacillus phage Maceta",
         "2.78727",
         "F05"
        ],
        [
         "20",
         "2282408",
         "Bacillus phage Maceta",
         "2.70203",
         "D11"
        ],
        [
         "21",
         "1965386",
         "Salmonella phage alphaalpha",
         "2.699",
         "E03"
        ],
        [
         "22",
         "2282408",
         "Bacillus phage Maceta",
         "2.66586",
         "E05"
        ],
        [
         "23",
         "2282408",
         "Bacillus phage Maceta",
         "2.65416",
         "G06"
        ],
        [
         "24",
         "1965386",
         "Salmonella phage alphaalpha",
         "2.6302",
         "B04"
        ],
        [
         "25",
         "1873954",
         "Cronobacter phage vB_CsaM_leE",
         "2.61402",
         "A08"
        ],
        [
         "26",
         "10847",
         "Escherichia virus phiX174",
         "2.57044",
         "E07"
        ],
        [
         "27",
         "2282408",
         "Bacillus phage Maceta",
         "2.45574",
         "E02"
        ],
        [
         "28",
         "1965386",
         "Salmonella phage alphaalpha",
         "2.43807",
         "A03"
        ],
        [
         "29",
         "1965386",
         "Salmonella phage alphaalpha",
         "2.37624",
         "G10"
        ],
        [
         "30",
         "2282408",
         "Bacillus phage Maceta",
         "2.3371",
         "D10"
        ],
        [
         "31",
         "2282408",
         "Bacillus phage Maceta",
         "2.32421",
         "A04"
        ],
        [
         "32",
         "2282408",
         "Bacillus phage Maceta",
         "2.31941",
         "D12"
        ],
        [
         "33",
         "40631",
         "Escherichia virus N15",
         "2.30884",
         "E09"
        ],
        [
         "34",
         "2282408",
         "Bacillus phage Maceta",
         "2.27577",
         "C01"
        ],
        [
         "35",
         "2282408",
         "Bacillus phage Maceta",
         "2.27255",
         "F10"
        ],
        [
         "36",
         "1605838",
         "Pseudomonas coleopterorum",
         "2.26881",
         "A09"
        ],
        [
         "37",
         "2282408",
         "Bacillus phage Maceta",
         "2.20597",
         "B12"
        ],
        [
         "38",
         "1965386",
         "Salmonella phage alphaalpha",
         "2.17402",
         "D04"
        ],
        [
         "39",
         "2282408",
         "Bacillus phage Maceta",
         "2.10575",
         "C06"
        ],
        [
         "40",
         "1965386",
         "Salmonella phage alphaalpha",
         "2.09844",
         "C12"
        ],
        [
         "41",
         "2282408",
         "Bacillus phage Maceta",
         "2.09098",
         "G07"
        ],
        [
         "42",
         "2282408",
         "Bacillus phage Maceta",
         "2.05154",
         "F09"
        ],
        [
         "43",
         "1965386",
         "Salmonella phage alphaalpha",
         "2.04127",
         "G01"
        ],
        [
         "44",
         "2282408",
         "Bacillus phage Maceta",
         "2.04059",
         "G08"
        ],
        [
         "45",
         "1965386",
         "Salmonella phage alphaalpha",
         "2.02772",
         "D12"
        ],
        [
         "46",
         "1965386",
         "Salmonella phage alphaalpha",
         "2.00294",
         "C11"
        ],
        [
         "47",
         "2282408",
         "Bacillus phage Maceta",
         "1.99834",
         "E07"
        ],
        [
         "48",
         "2282408",
         "Bacillus phage Maceta",
         "1.99284",
         "A11"
        ],
        [
         "49",
         "2282408",
         "Bacillus phage Maceta",
         "1.98231",
         "E11"
        ]
       ],
       "shape": {
        "columns": 4,
        "rows": 157937
       }
      },
      "text/html": [
       "<div>\n",
       "<style scoped>\n",
       "    .dataframe tbody tr th:only-of-type {\n",
       "        vertical-align: middle;\n",
       "    }\n",
       "\n",
       "    .dataframe tbody tr th {\n",
       "        vertical-align: top;\n",
       "    }\n",
       "\n",
       "    .dataframe thead th {\n",
       "        text-align: right;\n",
       "    }\n",
       "</style>\n",
       "<table border=\"1\" class=\"dataframe\">\n",
       "  <thead>\n",
       "    <tr style=\"text-align: right;\">\n",
       "      <th></th>\n",
       "      <th>species_id</th>\n",
       "      <th>species_name</th>\n",
       "      <th>relative_abundance</th>\n",
       "      <th>sample_id</th>\n",
       "    </tr>\n",
       "  </thead>\n",
       "  <tbody>\n",
       "    <tr>\n",
       "      <th>0</th>\n",
       "      <td>45617</td>\n",
       "      <td>Human endogenous retrovirus K</td>\n",
       "      <td>5.81399</td>\n",
       "      <td>C10</td>\n",
       "    </tr>\n",
       "    <tr>\n",
       "      <th>1</th>\n",
       "      <td>10847</td>\n",
       "      <td>Escherichia virus phiX174</td>\n",
       "      <td>5.71698</td>\n",
       "      <td>B08</td>\n",
       "    </tr>\n",
       "    <tr>\n",
       "      <th>2</th>\n",
       "      <td>1965386</td>\n",
       "      <td>Salmonella phage alphaalpha</td>\n",
       "      <td>5.34202</td>\n",
       "      <td>A05</td>\n",
       "    </tr>\n",
       "    <tr>\n",
       "      <th>3</th>\n",
       "      <td>67082</td>\n",
       "      <td>BeAn 58058 virus</td>\n",
       "      <td>4.75758</td>\n",
       "      <td>C10</td>\n",
       "    </tr>\n",
       "    <tr>\n",
       "      <th>4</th>\n",
       "      <td>2282408</td>\n",
       "      <td>Bacillus phage Maceta</td>\n",
       "      <td>4.18678</td>\n",
       "      <td>E04</td>\n",
       "    </tr>\n",
       "    <tr>\n",
       "      <th>...</th>\n",
       "      <td>...</td>\n",
       "      <td>...</td>\n",
       "      <td>...</td>\n",
       "      <td>...</td>\n",
       "    </tr>\n",
       "    <tr>\n",
       "      <th>157932</th>\n",
       "      <td>915471</td>\n",
       "      <td>Pseudomonas linyingensis</td>\n",
       "      <td>0.00010</td>\n",
       "      <td>G10</td>\n",
       "    </tr>\n",
       "    <tr>\n",
       "      <th>157933</th>\n",
       "      <td>1751969</td>\n",
       "      <td>Pseudomonas sp. 382</td>\n",
       "      <td>0.00010</td>\n",
       "      <td>G10</td>\n",
       "    </tr>\n",
       "    <tr>\n",
       "      <th>157934</th>\n",
       "      <td>1566202</td>\n",
       "      <td>Pseudomonas sp. NFACC44-2</td>\n",
       "      <td>0.00010</td>\n",
       "      <td>G10</td>\n",
       "    </tr>\n",
       "    <tr>\n",
       "      <th>157935</th>\n",
       "      <td>2058891</td>\n",
       "      <td>Arthrobacter sp. B0490</td>\n",
       "      <td>0.00010</td>\n",
       "      <td>G10</td>\n",
       "    </tr>\n",
       "    <tr>\n",
       "      <th>157936</th>\n",
       "      <td>1286369</td>\n",
       "      <td>Pseudomonas sp. LAMO17WK12:I12</td>\n",
       "      <td>0.00010</td>\n",
       "      <td>G10</td>\n",
       "    </tr>\n",
       "  </tbody>\n",
       "</table>\n",
       "<p>157937 rows × 4 columns</p>\n",
       "</div>"
      ],
      "text/plain": [
       "        species_id                    species_name  relative_abundance  \\\n",
       "0            45617   Human endogenous retrovirus K             5.81399   \n",
       "1            10847       Escherichia virus phiX174             5.71698   \n",
       "2          1965386     Salmonella phage alphaalpha             5.34202   \n",
       "3            67082                BeAn 58058 virus             4.75758   \n",
       "4          2282408           Bacillus phage Maceta             4.18678   \n",
       "...            ...                             ...                 ...   \n",
       "157932      915471        Pseudomonas linyingensis             0.00010   \n",
       "157933     1751969             Pseudomonas sp. 382             0.00010   \n",
       "157934     1566202       Pseudomonas sp. NFACC44-2             0.00010   \n",
       "157935     2058891          Arthrobacter sp. B0490             0.00010   \n",
       "157936     1286369  Pseudomonas sp. LAMO17WK12:I12             0.00010   \n",
       "\n",
       "       sample_id  \n",
       "0            C10  \n",
       "1            B08  \n",
       "2            A05  \n",
       "3            C10  \n",
       "4            E04  \n",
       "...          ...  \n",
       "157932       G10  \n",
       "157933       G10  \n",
       "157934       G10  \n",
       "157935       G10  \n",
       "157936       G10  \n",
       "\n",
       "[157937 rows x 4 columns]"
      ]
     },
     "execution_count": 6,
     "metadata": {},
     "output_type": "execute_result"
    }
   ],
   "source": [
    "all_species = db.get_all_species()\n",
    "all_species"
   ]
  },
  {
   "cell_type": "code",
   "execution_count": 7,
   "metadata": {},
   "outputs": [
    {
     "data": {
      "application/vnd.microsoft.datawrangler.viewer.v0+json": {
       "columns": [
        {
         "name": "index",
         "rawType": "int64",
         "type": "integer"
        },
        {
         "name": "genus_name",
         "rawType": "object",
         "type": "string"
        },
        {
         "name": "genus_id",
         "rawType": "int64",
         "type": "integer"
        },
        {
         "name": "sample_id",
         "rawType": "object",
         "type": "string"
        },
        {
         "name": "relative_abundance",
         "rawType": "float64",
         "type": "float"
        }
       ],
       "conversionMethod": "pd.DataFrame",
       "ref": "82d272e7-1425-4454-bdc0-019128e246d9",
       "rows": [
        [
         "0",
         "Pseudomonas",
         "286",
         "A02",
         "15.24638"
        ],
        [
         "1",
         "Kp15virus",
         "1985328",
         "A08",
         "9.76294"
        ],
        [
         "2",
         "Pseudomonas",
         "286",
         "A09",
         "9.42714"
        ],
        [
         "3",
         "Pseudomonas",
         "286",
         "F04",
         "8.97113"
        ],
        [
         "4",
         "Pseudomonas",
         "286",
         "E10",
         "7.11968"
        ],
        [
         "5",
         "Pseudomonas",
         "286",
         "B11",
         "6.50108"
        ],
        [
         "6",
         "Pseudomonas",
         "286",
         "B02",
         "6.43982"
        ],
        [
         "7",
         "Pseudomonas",
         "286",
         "G10",
         "6.39531"
        ],
        [
         "8",
         "NA_Human endogenous retrovirus K",
         "-1045617",
         "C10",
         "5.81399"
        ],
        [
         "9",
         "Phix174microvirus",
         "1910954",
         "B08",
         "5.71698"
        ],
        [
         "10",
         "Phix174microvirus",
         "1910954",
         "A05",
         "5.34202"
        ],
        [
         "11",
         "Phix174microvirus",
         "1910954",
         "B06",
         "5.20812"
        ],
        [
         "12",
         "Methylobacterium",
         "407",
         "E03",
         "5.18082"
        ],
        [
         "13",
         "NA_BeAn 58058 virus",
         "-1067082",
         "C10",
         "4.75758"
        ],
        [
         "14",
         "Pseudomonas",
         "286",
         "E02",
         "4.72056"
        ],
        [
         "15",
         "NA_Bacillus phage Maceta",
         "-102282408",
         "E04",
         "4.18678"
        ],
        [
         "16",
         "Methylobacterium",
         "407",
         "F08",
         "4.14689"
        ],
        [
         "17",
         "Sphingomonas",
         "13687",
         "A09",
         "3.9632"
        ],
        [
         "18",
         "Pseudomonas",
         "286",
         "A01",
         "3.92176"
        ],
        [
         "19",
         "Sphingomonas",
         "13687",
         "G08",
         "3.88358"
        ],
        [
         "20",
         "Methylobacterium",
         "407",
         "A07",
         "3.65125"
        ],
        [
         "21",
         "Methylobacterium",
         "407",
         "F09",
         "3.61716"
        ],
        [
         "22",
         "NA_Bacillus phage Maceta",
         "-102282408",
         "G05",
         "3.57636"
        ],
        [
         "23",
         "Sphingomonas",
         "13687",
         "D05",
         "3.56242"
        ],
        [
         "24",
         "Phix174microvirus",
         "1910954",
         "E07",
         "3.49977"
        ],
        [
         "25",
         "Methylobacterium",
         "407",
         "D08",
         "3.49859"
        ],
        [
         "26",
         "Phix174microvirus",
         "1910954",
         "G02",
         "3.45103"
        ],
        [
         "27",
         "Sphingomonas",
         "13687",
         "D03",
         "3.4102799999999998"
        ],
        [
         "28",
         "Sphingomonas",
         "13687",
         "B03",
         "3.39532"
        ],
        [
         "29",
         "Methylobacterium",
         "407",
         "D09",
         "3.38339"
        ],
        [
         "30",
         "NA_Bacillus phage Maceta",
         "-102282408",
         "C04",
         "3.34037"
        ],
        [
         "31",
         "Sphingomonas",
         "13687",
         "F02",
         "3.32488"
        ],
        [
         "32",
         "Sphingomonas",
         "13687",
         "C07",
         "3.287"
        ],
        [
         "33",
         "NA_Xanthomonas phage RiverRider",
         "-102108116",
         "A01",
         "3.27889"
        ],
        [
         "34",
         "Pseudomonas",
         "286",
         "E01",
         "3.25301"
        ],
        [
         "35",
         "Sphingomonas",
         "13687",
         "C08",
         "3.24753"
        ],
        [
         "36",
         "NA_Bacillus phage Maceta",
         "-102282408",
         "A06",
         "3.19593"
        ],
        [
         "37",
         "Sphingomonas",
         "13687",
         "C02",
         "3.19054"
        ],
        [
         "38",
         "Methylobacterium",
         "407",
         "F06",
         "3.13879"
        ],
        [
         "39",
         "Microbacterium",
         "33882",
         "D02",
         "3.05754"
        ],
        [
         "40",
         "Phix174microvirus",
         "1910954",
         "F11",
         "3.01687"
        ],
        [
         "41",
         "NA_Bacillus phage Maceta",
         "-102282408",
         "G04",
         "3.011"
        ],
        [
         "42",
         "Phix174microvirus",
         "1910954",
         "E12",
         "3.0033"
        ],
        [
         "43",
         "NA_Bacillus phage Maceta",
         "-102282408",
         "A10",
         "2.96053"
        ],
        [
         "44",
         "NA_Bacillus phage Maceta",
         "-102282408",
         "A12",
         "2.93636"
        ],
        [
         "45",
         "Sphingomonas",
         "13687",
         "D09",
         "2.9011299999999998"
        ],
        [
         "46",
         "NA_Bacillus phage Maceta",
         "-102282408",
         "E06",
         "2.89512"
        ],
        [
         "47",
         "Pseudomonas",
         "286",
         "B10",
         "2.89274"
        ],
        [
         "48",
         "Methylobacterium",
         "407",
         "C02",
         "2.86464"
        ],
        [
         "49",
         "NA_Bacillus phage Maceta",
         "-102282408",
         "D06",
         "2.86022"
        ]
       ],
       "shape": {
        "columns": 4,
        "rows": 39014
       }
      },
      "text/html": [
       "<div>\n",
       "<style scoped>\n",
       "    .dataframe tbody tr th:only-of-type {\n",
       "        vertical-align: middle;\n",
       "    }\n",
       "\n",
       "    .dataframe tbody tr th {\n",
       "        vertical-align: top;\n",
       "    }\n",
       "\n",
       "    .dataframe thead th {\n",
       "        text-align: right;\n",
       "    }\n",
       "</style>\n",
       "<table border=\"1\" class=\"dataframe\">\n",
       "  <thead>\n",
       "    <tr style=\"text-align: right;\">\n",
       "      <th></th>\n",
       "      <th>genus_name</th>\n",
       "      <th>genus_id</th>\n",
       "      <th>sample_id</th>\n",
       "      <th>relative_abundance</th>\n",
       "    </tr>\n",
       "  </thead>\n",
       "  <tbody>\n",
       "    <tr>\n",
       "      <th>0</th>\n",
       "      <td>Pseudomonas</td>\n",
       "      <td>286</td>\n",
       "      <td>A02</td>\n",
       "      <td>15.24638</td>\n",
       "    </tr>\n",
       "    <tr>\n",
       "      <th>1</th>\n",
       "      <td>Kp15virus</td>\n",
       "      <td>1985328</td>\n",
       "      <td>A08</td>\n",
       "      <td>9.76294</td>\n",
       "    </tr>\n",
       "    <tr>\n",
       "      <th>2</th>\n",
       "      <td>Pseudomonas</td>\n",
       "      <td>286</td>\n",
       "      <td>A09</td>\n",
       "      <td>9.42714</td>\n",
       "    </tr>\n",
       "    <tr>\n",
       "      <th>3</th>\n",
       "      <td>Pseudomonas</td>\n",
       "      <td>286</td>\n",
       "      <td>F04</td>\n",
       "      <td>8.97113</td>\n",
       "    </tr>\n",
       "    <tr>\n",
       "      <th>4</th>\n",
       "      <td>Pseudomonas</td>\n",
       "      <td>286</td>\n",
       "      <td>E10</td>\n",
       "      <td>7.11968</td>\n",
       "    </tr>\n",
       "    <tr>\n",
       "      <th>...</th>\n",
       "      <td>...</td>\n",
       "      <td>...</td>\n",
       "      <td>...</td>\n",
       "      <td>...</td>\n",
       "    </tr>\n",
       "    <tr>\n",
       "      <th>39009</th>\n",
       "      <td>Kockovaella</td>\n",
       "      <td>4998</td>\n",
       "      <td>B02</td>\n",
       "      <td>0.00010</td>\n",
       "    </tr>\n",
       "    <tr>\n",
       "      <th>39010</th>\n",
       "      <td>Sulfurisoma</td>\n",
       "      <td>1499082</td>\n",
       "      <td>E07</td>\n",
       "      <td>0.00010</td>\n",
       "    </tr>\n",
       "    <tr>\n",
       "      <th>39011</th>\n",
       "      <td>Dechloromonas</td>\n",
       "      <td>73029</td>\n",
       "      <td>F06</td>\n",
       "      <td>0.00010</td>\n",
       "    </tr>\n",
       "    <tr>\n",
       "      <th>39012</th>\n",
       "      <td>Azonexus</td>\n",
       "      <td>146936</td>\n",
       "      <td>G02</td>\n",
       "      <td>0.00010</td>\n",
       "    </tr>\n",
       "    <tr>\n",
       "      <th>39013</th>\n",
       "      <td>Pyrinomonas</td>\n",
       "      <td>1562565</td>\n",
       "      <td>B03</td>\n",
       "      <td>0.00010</td>\n",
       "    </tr>\n",
       "  </tbody>\n",
       "</table>\n",
       "<p>39014 rows × 4 columns</p>\n",
       "</div>"
      ],
      "text/plain": [
       "          genus_name  genus_id sample_id  relative_abundance\n",
       "0        Pseudomonas       286       A02            15.24638\n",
       "1          Kp15virus   1985328       A08             9.76294\n",
       "2        Pseudomonas       286       A09             9.42714\n",
       "3        Pseudomonas       286       F04             8.97113\n",
       "4        Pseudomonas       286       E10             7.11968\n",
       "...              ...       ...       ...                 ...\n",
       "39009    Kockovaella      4998       B02             0.00010\n",
       "39010    Sulfurisoma   1499082       E07             0.00010\n",
       "39011  Dechloromonas     73029       F06             0.00010\n",
       "39012       Azonexus    146936       G02             0.00010\n",
       "39013    Pyrinomonas   1562565       B03             0.00010\n",
       "\n",
       "[39014 rows x 4 columns]"
      ]
     },
     "execution_count": 7,
     "metadata": {},
     "output_type": "execute_result"
    }
   ],
   "source": [
    "all_genus = db.get_all_genus()\n",
    "all_genus"
   ]
  },
  {
   "cell_type": "code",
   "execution_count": 8,
   "metadata": {},
   "outputs": [],
   "source": [
    "all_family = db.get_all_family(\"A02\")"
   ]
  },
  {
   "cell_type": "code",
   "execution_count": 9,
   "metadata": {},
   "outputs": [],
   "source": [
    "all_orders = db.get_all_order()"
   ]
  },
  {
   "cell_type": "code",
   "execution_count": 10,
   "metadata": {},
   "outputs": [],
   "source": [
    "all_class = db.get_all_class(\"A02\")"
   ]
  },
  {
   "cell_type": "code",
   "execution_count": 11,
   "metadata": {},
   "outputs": [],
   "source": [
    "all_phyla = db.get_all_phyla()"
   ]
  },
  {
   "cell_type": "markdown",
   "metadata": {},
   "source": [
    "`-222` represents an individual with unknown kingdom id"
   ]
  },
  {
   "cell_type": "code",
   "execution_count": 12,
   "metadata": {},
   "outputs": [
    {
     "data": {
      "application/vnd.microsoft.datawrangler.viewer.v0+json": {
       "columns": [
        {
         "name": "index",
         "rawType": "int64",
         "type": "integer"
        },
        {
         "name": "phylum_name",
         "rawType": "object",
         "type": "string"
        },
        {
         "name": "phylum_id",
         "rawType": "int64",
         "type": "integer"
        },
        {
         "name": "superkingdom_id",
         "rawType": "int64",
         "type": "integer"
        },
        {
         "name": "sample_id",
         "rawType": "object",
         "type": "string"
        },
        {
         "name": "relative_abundance",
         "rawType": "float64",
         "type": "float"
        }
       ],
       "conversionMethod": "pd.DataFrame",
       "ref": "b351675a-be38-46f1-878c-bf0d4023af7e",
       "rows": [],
       "shape": {
        "columns": 5,
        "rows": 0
       }
      },
      "text/html": [
       "<div>\n",
       "<style scoped>\n",
       "    .dataframe tbody tr th:only-of-type {\n",
       "        vertical-align: middle;\n",
       "    }\n",
       "\n",
       "    .dataframe tbody tr th {\n",
       "        vertical-align: top;\n",
       "    }\n",
       "\n",
       "    .dataframe thead th {\n",
       "        text-align: right;\n",
       "    }\n",
       "</style>\n",
       "<table border=\"1\" class=\"dataframe\">\n",
       "  <thead>\n",
       "    <tr style=\"text-align: right;\">\n",
       "      <th></th>\n",
       "      <th>phylum_name</th>\n",
       "      <th>phylum_id</th>\n",
       "      <th>superkingdom_id</th>\n",
       "      <th>sample_id</th>\n",
       "      <th>relative_abundance</th>\n",
       "    </tr>\n",
       "  </thead>\n",
       "  <tbody>\n",
       "  </tbody>\n",
       "</table>\n",
       "</div>"
      ],
      "text/plain": [
       "Empty DataFrame\n",
       "Columns: [phylum_name, phylum_id, superkingdom_id, sample_id, relative_abundance]\n",
       "Index: []"
      ]
     },
     "execution_count": 12,
     "metadata": {},
     "output_type": "execute_result"
    }
   ],
   "source": [
    "all_phyla[all_phyla[\"superkingdom_id\"] == -2222]"
   ]
  },
  {
   "cell_type": "markdown",
   "metadata": {},
   "source": [
    "## Data Visualization"
   ]
  },
  {
   "cell_type": "markdown",
   "metadata": {},
   "source": [
    "### Stacked columns"
   ]
  },
  {
   "cell_type": "markdown",
   "metadata": {},
   "source": [
    "This plots a bar chart, showing the relative abundance of the top `subset` phyla in the sample specified"
   ]
  },
  {
   "cell_type": "code",
   "execution_count": 13,
   "metadata": {},
   "outputs": [
    {
     "data": {
      "image/png": "[encoded data removed]",
      "text/plain": [
       "<Figure size 640x480 with 1 Axes>"
      ]
     },
     "metadata": {},
     "output_type": "display_data"
    }
   ],
   "source": [
    "db.barplot_by_sample(\"A01\", \"class\", 12)"
   ]
  },
  {
   "cell_type": "markdown",
   "metadata": {},
   "source": [
    "Make a stacked barplot showing the relative abundances of all samples (or samples specified)"
   ]
  },
  {
   "cell_type": "code",
   "execution_count": 14,
   "metadata": {},
   "outputs": [
    {
     "data": {
      "image/png": "[encoded data removed]",
      "text/plain": [
       "<Figure size 640x480 with 1 Axes>"
      ]
     },
     "metadata": {},
     "output_type": "display_data"
    }
   ],
   "source": [
    "db.taxa_level_barplot(level='phylum', top_n=10)"
   ]
  },
  {
   "cell_type": "markdown",
   "metadata": {},
   "source": [
    "Stacked barplot of all phylum taxa in samples \"A01\" and \"A02\""
   ]
  },
  {
   "cell_type": "code",
   "execution_count": 15,
   "metadata": {},
   "outputs": [
    {
     "data": {
      "image/png": "[encoded data removed]",
      "text/plain": [
       "<Figure size 640x480 with 1 Axes>"
      ]
     },
     "metadata": {},
     "output_type": "display_data"
    }
   ],
   "source": [
    "db.taxa_level_barplot(top_n=10, color_palette=\"tab10\", choose_samples=[\"A01\", \"A02\"])"
   ]
  },
  {
   "cell_type": "markdown",
   "metadata": {},
   "source": [
    "## Principal Coordinate Analysis Plot"
   ]
  },
  {
   "cell_type": "markdown",
   "metadata": {},
   "source": [
    "Show PCoA of samples and color by category (complex)"
   ]
  },
  {
   "cell_type": "code",
   "execution_count": 21,
   "metadata": {},
   "outputs": [
    {
     "name": "stderr",
     "output_type": "stream",
     "text": [
      "c:\\Users\\eopoku\\AppData\\Local\\Programs\\Python\\Python313\\Lib\\site-packages\\skbio\\stats\\ordination\\_principal_coordinate_analysis.py:214: RuntimeWarning: The result contains negative eigenvalues that are large in magnitude, which may suggest result inaccuracy. See Notes for details. The negative-most eigenvalue is -0.13372741069889788 whereas the largest positive one is 5.0314545632125585.\n",
      "  warn(\n"
     ]
    },
    {
     "data": {
      "image/png": "[encoded data removed]",
      "text/plain": [
       "<Figure size 640x480 with 1 Axes>"
      ]
     },
     "metadata": {},
     "output_type": "display_data"
    }
   ],
   "source": [
    "fig = db.plot_pcoa(color_by=\"site\", method='eigh')   "
   ]
  },
  {
   "cell_type": "markdown",
   "metadata": {},
   "source": [
    "Save pcoa dimensions to file"
   ]
  },
  {
   "cell_type": "code",
   "execution_count": null,
   "metadata": {},
   "outputs": [],
   "source": [
    "db.save_pcoa_dimensions(\"pcoa_output.csv\", sep=',')"
   ]
  },
  {
   "cell_type": "markdown",
   "metadata": {},
   "source": [
    "## SPECIES ACCUMULATION CURVE"
   ]
  },
  {
   "cell_type": "code",
   "execution_count": 22,
   "metadata": {},
   "outputs": [
    {
     "name": "stderr",
     "output_type": "stream",
     "text": [
      "c:\\Users\\eopoku\\OneDrive - William & Mary\\Documents\\projects\\process-metalign\\src\\diversity_stats\\calc_stats.py:109: UserWarning: set_ticklabels() should only be used with a fixed number of ticks, i.e. after set_ticks() or using a FixedLocator.\n",
      "  ax.set_xticklabels(sample_names, rotation=90)\n"
     ]
    },
    {
     "data": {
      "image/png": "[encoded data removed]",
      "text/plain": [
       "<Figure size 640x480 with 1 Axes>"
      ]
     },
     "execution_count": 22,
     "metadata": {},
     "output_type": "execute_result"
    },
    {
     "data": {
      "image/png": "[encoded data removed]",
      "text/plain": [
       "<Figure size 640x480 with 1 Axes>"
      ]
     },
     "metadata": {},
     "output_type": "display_data"
    }
   ],
   "source": [
    "db.plot_species_accum('y')"
   ]
  },
  {
   "cell_type": "markdown",
   "metadata": {},
   "source": [
    "## PERMANOVA (COMING SOON)"
   ]
  },
  {
   "cell_type": "markdown",
   "metadata": {},
   "source": [
    "## CO-OCCURENCE NETWORKS (COMING SOON)"
   ]
  }
 ],
 "metadata": {
  "kernelspec": {
   "display_name": "Python 3",
   "language": "python",
   "name": "python3"
  },
  "language_info": {
   "codemirror_mode": {
    "name": "ipython",
    "version": 3
   },
   "file_extension": ".py",
   "mimetype": "text/x-python",
   "name": "python",
   "nbconvert_exporter": "python",
   "pygments_lexer": "ipython3",
   "version": "3.13.0"
  }
 },
 "nbformat": 4,
 "nbformat_minor": 2
}
